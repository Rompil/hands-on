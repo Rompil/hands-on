{
  "nbformat": 4,
  "nbformat_minor": 0,
  "metadata": {
    "colab": {
      "name": "PySpark ML.ipynb",
      "version": "0.3.2",
      "provenance": [],
      "include_colab_link": true
    },
    "kernelspec": {
      "name": "python3",
      "display_name": "Python 3"
    }
  },
  "cells": [
    {
      "cell_type": "markdown",
      "metadata": {
        "id": "view-in-github",
        "colab_type": "text"
      },
      "source": [
        "<a href=\"https://colab.research.google.com/github/Rompil/hands-on/blob/master/PySpark_ML.ipynb\" target=\"_parent\"><img src=\"https://colab.research.google.com/assets/colab-badge.svg\" alt=\"Open In Colab\"/></a>"
      ]
    },
    {
      "metadata": {
        "id": "JHU8JLE21Dym",
        "colab_type": "text"
      },
      "cell_type": "markdown",
      "source": [
        "# Обзор модуля PySpark MLlib\n"
      ]
    },
    {
      "metadata": {
        "id": "njVqKQZNAr55",
        "colab_type": "text"
      },
      "cell_type": "markdown",
      "source": [
        "Модуль MLlib предназначен для использования уже готовых алгоритмов машинного обучения в прикладных задачах при обработке больших данных. Во многом он схож с Scikit-learn, что делает его легким в освоении и позволяет переносить уже готовые методы обработки данных на платформу Spark."
      ]
    },
    {
      "metadata": {
        "id": "OTReAhKhBeUW",
        "colab_type": "text"
      },
      "cell_type": "markdown",
      "source": [
        "Для лучшего понимания того, зачем делать определенные этапы потом, мы обсудим задачу машинного обучения  в первом приближении.\n",
        "\n",
        "Вне зависимости от конкретного выбранного алгоритма анализа данных можно выделить схожие этапы:\n",
        "\n",
        "\n",
        "*   Загрузка и отчистка данных.\n",
        "*   Извлечение признаков (фич)\n",
        "*   Тренировка модели\n",
        "*   Оценка целевых показателей\n",
        "\n",
        "Эти этапы могут повторяться неоднократно в процессе настройки гиперпараметров модели.\n",
        "\n",
        "В Spark такой подход унифицировали и сосокупность таких этапов упаковали в **Pipeline**.\n",
        "Каждый этап в Pipeline представляет из себя либо Transformer, либо Estimator, либо Evaluator.\n",
        "При этом, Pipeline может содержать произвольное количество таких унафицированных этапов, каждый из которых может быть соединен с другим и выступать как източником , так и потребителем для других этапов.\n",
        "Каждый из таких этапов надо рассмотреть подробнее.\n",
        "\n",
        "\n",
        "\n"
      ]
    },
    {
      "metadata": {
        "id": "QzvSJVGERx-T",
        "colab_type": "text"
      },
      "cell_type": "markdown",
      "source": [
        "**Transformer:** \n",
        "\n",
        "\n",
        "*   Используется на этапе препроцессинга\n",
        "*   Преобразует данные в необходимый формат для далдьнейшей обработки\n",
        "*   Обрабатывает по столбцам столбец на входе -> столбец на выходе\n",
        "\n",
        "Примеры Transformers:\n",
        "          \n",
        "\n",
        "*   Нормализация - приведение значений к диапазону от 0 до 1 или к стандартному распределению.\n",
        "*   Токенизация - замена слов числами\n",
        "*   Замена категориальных признаков на числовые\n",
        "\n",
        "Обычно такогого рода преоразования вызывают метод .transform(), на входе и на выходе dataframe.\n",
        "\n",
        "\n",
        "\n",
        "\n",
        "\n"
      ]
    },
    {
      "metadata": {
        "id": "5JIjV7Tbq93c",
        "colab_type": "text"
      },
      "cell_type": "markdown",
      "source": [
        "![alt text](data:image/png;base64,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)"
      ]
    },
    {
      "metadata": {
        "id": "YDQSCU-pnBjw",
        "colab_type": "text"
      },
      "cell_type": "markdown",
      "source": [
        "**Estimator:**\n",
        "\n",
        "\n",
        "*   Чаще всего это обучающие алгоритмы, которые тренеруются на данных\n",
        "*   Возвращают на выходе модель алгоритма, у которой можно вызвать .transform(), т.е. transformer\n",
        "\n",
        "Пример Estimator:\n",
        "\n",
        ">LogisticRegresion.fit(...)  $\\longrightarrow$ LogisticRegressionModel.transform()\n",
        "\n"
      ]
    },
    {
      "metadata": {
        "id": "4kLxLf59q3vf",
        "colab_type": "text"
      },
      "cell_type": "markdown",
      "source": [
        "![alt text](data:image/png;base64,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)"
      ]
    },
    {
      "metadata": {
        "id": "umMRGshQuVYv",
        "colab_type": "text"
      },
      "cell_type": "markdown",
      "source": [
        "**Evaluator:**\n",
        "\n",
        "\n",
        "\n",
        "*   Оценивает качество модели на основе определенных параметров: ROC, RMSE\n",
        "*   Учавствует в автоматическом тюнинге гиперпараметров модели \n",
        "*   Позволяет сравнивать качество моделей и выбрать лучшие\n",
        "\n",
        "Пример Evaluator:\n",
        "\n",
        "> BinaryClassificationEvaluator\n",
        "\n",
        ">CrossValidator\n",
        "\n",
        "\n",
        "\n"
      ]
    },
    {
      "metadata": {
        "id": "kbok9wG7vvzR",
        "colab_type": "text"
      },
      "cell_type": "markdown",
      "source": [
        "![alt text](data:image/png;base64,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)"
      ]
    }
  ]
}