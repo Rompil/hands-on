{
  "nbformat": 4,
  "nbformat_minor": 0,
  "metadata": {
    "colab": {
      "name": "PySpark ML.ipynb",
      "version": "0.3.2",
      "provenance": [],
      "toc_visible": true,
      "include_colab_link": true
    },
    "kernelspec": {
      "name": "python3",
      "display_name": "Python 3"
    }
  },
  "cells": [
    {
      "cell_type": "markdown",
      "metadata": {
        "id": "view-in-github",
        "colab_type": "text"
      },
      "source": [
        "<a href=\"https://colab.research.google.com/github/Rompil/hands-on/blob/master/PySpark_ML.ipynb\" target=\"_parent\"><img src=\"https://colab.research.google.com/assets/colab-badge.svg\" alt=\"Open In Colab\"/></a>"
      ]
    },
    {
      "metadata": {
        "id": "aJzXqeJzmdeq",
        "colab_type": "code",
        "colab": {}
      },
      "cell_type": "code",
      "source": [
        "!apt-get install openjdk-8-jdk-headless -qq > /dev/null\n",
        "!wget -q http://apache-mirror.rbc.ru/pub/apache/spark/spark-2.4.1/spark-2.4.1-bin-hadoop2.7.tgz\n",
        "!tar xvzf spark-2.4.1-bin-hadoop2.7.tgz\n",
        "!pip install -q findspark"
      ],
      "execution_count": 0,
      "outputs": []
    },
    {
      "metadata": {
        "id": "s9WRIGOqmenX",
        "colab_type": "code",
        "colab": {}
      },
      "cell_type": "code",
      "source": [
        "import os\n",
        "os.environ[\"JAVA_HOME\"] = \"/usr/lib/jvm/java-8-openjdk-amd64\"\n",
        "os.environ[\"SPARK_HOME\"] = \"/content/spark-2.4.1-bin-hadoop2.7\""
      ],
      "execution_count": 0,
      "outputs": []
    },
    {
      "metadata": {
        "id": "W7xYv8mwmew4",
        "colab_type": "code",
        "colab": {}
      },
      "cell_type": "code",
      "source": [
        "import findspark\n",
        "findspark.init()\n",
        "from pyspark.sql import SparkSession\n",
        "from pyspark import SparkContext\n",
        "spark = SparkSession.builder.master(\"local[*]\").getOrCreate()\n",
        "#sc = SparkContext(appName='MLlibHands_on')"
      ],
      "execution_count": 0,
      "outputs": []
    },
    {
      "metadata": {
        "id": "EeaZnKuSORvr",
        "colab_type": "code",
        "colab": {}
      },
      "cell_type": "code",
      "source": [
        "!wget http://devdemo.competentum.com/dataset/boston_train.csv\n"
      ],
      "execution_count": 0,
      "outputs": []
    },
    {
      "metadata": {
        "id": "JHU8JLE21Dym",
        "colab_type": "text"
      },
      "cell_type": "markdown",
      "source": [
        "# Обзор модуля PySpark MLlib\n"
      ]
    },
    {
      "metadata": {
        "id": "njVqKQZNAr55",
        "colab_type": "text"
      },
      "cell_type": "markdown",
      "source": [
        "Модуль MLlib предназначен для использования уже готовых алгоритмов машинного обучения в прикладных задачах при обработке больших данных. Во многом он схож с Scikit-learn, что делает его легким в освоении и позволяет переносить уже готовые методы обработки данных на платформу Spark."
      ]
    },
    {
      "metadata": {
        "id": "OTReAhKhBeUW",
        "colab_type": "text"
      },
      "cell_type": "markdown",
      "source": [
        "Для лучшего понимания того, зачем делать определенные этапы потом, мы обсудим задачу машинного обучения  в первом приближении.\n",
        "\n",
        "Вне зависимости от конкретного выбранного алгоритма анализа данных можно выделить схожие этапы:\n",
        "\n",
        "\n",
        "*   Загрузка и отчистка данных.\n",
        "*   Извлечение признаков (фич)\n",
        "*   Тренировка модели\n",
        "*   Оценка целевых показателей\n",
        "\n",
        "Эти этапы могут повторяться неоднократно в процессе настройки гиперпараметров модели.\n",
        "\n",
        "В Spark такой подход унифицировали и сосокупность таких этапов упаковали в **Pipeline**.\n",
        "Каждый этап в Pipeline представляет из себя либо Transformer, либо Estimator, либо Evaluator.\n",
        "При этом, Pipeline может содержать произвольное количество таких унафицированных этапов, каждый из которых может быть соединен с другим и выступать как източником , так и потребителем для других этапов.\n",
        "Каждый из таких этапов надо рассмотреть подробнее.\n",
        "\n",
        "\n",
        "\n"
      ]
    },
    {
      "metadata": {
        "id": "QzvSJVGERx-T",
        "colab_type": "text"
      },
      "cell_type": "markdown",
      "source": [
        "**Transformer:** \n",
        "\n",
        "\n",
        "*   Используется на этапе препроцессинга\n",
        "*   Преобразует данные в необходимый формат для далдьнейшей обработки\n",
        "*   Обрабатывает по столбцам столбец на входе -> столбец на выходе\n",
        "\n",
        "Примеры Transformers:\n",
        "          \n",
        "\n",
        "*   Нормализация - приведение значений к диапазону от 0 до 1 или к стандартному распределению.\n",
        "*   Токенизация - замена слов числами\n",
        "*   Замена категориальных признаков на числовые\n",
        "\n",
        "Обычно такогого рода преоразования вызывают метод .transform(), на входе и на выходе dataframe.\n",
        "\n",
        "\n",
        "\n",
        "\n",
        "\n"
      ]
    },
    {
      "metadata": {
        "id": "5JIjV7Tbq93c",
        "colab_type": "text"
      },
      "cell_type": "markdown",
      "source": [
        "![alt text](data:image/png;base64,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)"
      ]
    },
    {
      "metadata": {
        "id": "YDQSCU-pnBjw",
        "colab_type": "text"
      },
      "cell_type": "markdown",
      "source": [
        "**Estimator:**\n",
        "\n",
        "\n",
        "*   Чаще всего это обучающие алгоритмы, которые тренеруются на данных\n",
        "*   Возвращают на выходе модель алгоритма, у которой можно вызвать .transform(), т.е. transformer\n",
        "\n",
        "Пример Estimator:\n",
        "\n",
        ">LogisticRegresion.fit(...)  $\\longrightarrow$ LogisticRegressionModel.transform()\n",
        "\n"
      ]
    },
    {
      "metadata": {
        "id": "4kLxLf59q3vf",
        "colab_type": "text"
      },
      "cell_type": "markdown",
      "source": [
        "![alt text](data:image/png;base64,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)"
      ]
    },
    {
      "metadata": {
        "id": "umMRGshQuVYv",
        "colab_type": "text"
      },
      "cell_type": "markdown",
      "source": [
        "**Evaluator:**\n",
        "\n",
        "\n",
        "\n",
        "*   Оценивает качество модели на основе определенных параметров: ROC, RMSE\n",
        "*   Учавствует в автоматическом тюнинге гиперпараметров модели \n",
        "*   Позволяет сравнивать качество моделей и выбрать лучшие\n",
        "\n",
        "Пример Evaluator:\n",
        "\n",
        "> BinaryClassificationEvaluator\n",
        "\n",
        ">CrossValidator\n",
        "\n",
        "\n",
        "\n"
      ]
    },
    {
      "metadata": {
        "id": "kbok9wG7vvzR",
        "colab_type": "text"
      },
      "cell_type": "markdown",
      "source": [
        "![alt text](data:image/png;base64,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)"
      ]
    },
    {
      "metadata": {
        "id": "ixA-5hHC4YNQ",
        "colab_type": "text"
      },
      "cell_type": "markdown",
      "source": [
        "В совокупности такие этапы работы с данными и формируют **Pipeline**\n",
        "\n",
        "Pipeline  \n",
        "\n",
        "*   Используется для представления потока обработки данных в ML   \n",
        "*   Состоит из отдельных этапов, которае легко контроллировать.\n",
        "*   Эти этапы унифицированы и легко взаимозаменяемы.\n",
        "*   Сам Pipeline является экземпляром типа Estimator и для него модно вызвать метод .fit()\n",
        "*   Pipeline можно как сохранить во внешней памяти, так  и загрузить из нее для повторного использования.\n",
        "\n"
      ]
    },
    {
      "metadata": {
        "id": "dIkiT9Af6eIr",
        "colab_type": "text"
      },
      "cell_type": "markdown",
      "source": [
        "![alt text](data:image/png;base64,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)"
      ]
    },
    {
      "metadata": {
        "id": "Tokr2YqO6nXi",
        "colab_type": "text"
      },
      "cell_type": "markdown",
      "source": [
        "##Основные модули MLlib"
      ]
    },
    {
      "metadata": {
        "id": "FzUDlxxVRFuH",
        "colab_type": "text"
      },
      "cell_type": "markdown",
      "source": [
        "Если разбираться в MLlib детальнее, то можно выделить отдельные группы подмодулей, каждый из которых предназначен для решения своего рода задач:\n",
        "\n",
        "\n",
        "*   ML Algorithms - Все основные распространенные алгоритмы машинного обучения которые встречаются на практике: линейная регрессия, логистическая регрессия, клатеризация и т.д.\n",
        "*   Featurization - Методы преобразования и извлечения признаков, уменьшения размерности и формирования выборки. \n",
        "*   Pipelines - инструменты формирования, оценивания и настройки (тюнинга) ML Pipeline'ов\n",
        "*   Persistance - средства сохранения и загрузки алгоритмов, моделей и целых Pipeline'ов\n",
        "*   Utilities - Все необходимое, связанное с линейной алгеброй, статистикой и вероятностью.\n",
        "\n"
      ]
    },
    {
      "metadata": {
        "id": "T7F25cbt7z_r",
        "colab_type": "text"
      },
      "cell_type": "markdown",
      "source": [
        "Перед тем как непосредственно начать работать с MLlib надо познакомиться с основными типами данных, с которыми придется иметь дело в примерах.\n",
        "\n"
      ]
    },
    {
      "metadata": {
        "id": "VeBF5FDigBzc",
        "colab_type": "text"
      },
      "cell_type": "markdown",
      "source": [
        "**Vector**\n",
        "\n",
        "Векторы в Spark могут задаваться двумя способами:\n",
        "\n",
        "\n",
        "*   \"Плотный\" (Dense) вектор, элементы которого задаются перечислением. Совместим с array из  numpy.\n",
        "*   \"Разряженный\" (Sparse) вектор, значения в нем задаются по индексу.\n",
        "\n",
        "\n"
      ]
    },
    {
      "metadata": {
        "id": "6uGl85V4maQ3",
        "colab_type": "code",
        "colab": {}
      },
      "cell_type": "code",
      "source": [
        "from numpy import array\n",
        "from pyspark.mllib.linalg import Vectors\n",
        "\n",
        "denseVec1 = array([1.0, 2.0, 3.0])\n",
        "denseVec2 = Vectors.dense([1.0, 2.0, 3.0])\n",
        "\n",
        "sparseVec1 = Vectors.sparse(4, {0:1.0, 2:2.0})\n",
        "sparseVec2 = Vectors.sparse(4, [0, 2], [1.0, 2.0])"
      ],
      "execution_count": 0,
      "outputs": []
    },
    {
      "metadata": {
        "id": "Hqo9Mn7KXRim",
        "colab_type": "text"
      },
      "cell_type": "markdown",
      "source": [
        "**LabeledPoint**\n",
        "\n",
        "Размеченная точка используется часто для представления данных  в training set'ах как единичный сэмпл. Состоит из label и features."
      ]
    },
    {
      "metadata": {
        "id": "-gnpr9B8pwXS",
        "colab_type": "code",
        "colab": {
          "base_uri": "https://localhost:8080/",
          "height": 33
        },
        "outputId": "497ea5a1-418f-47f2-d24a-1f41ccdd3ab2"
      },
      "cell_type": "code",
      "source": [
        "from pyspark.mllib.regression import LabeledPoint\n",
        "my_point = LabeledPoint(1.0, denseVec1)\n",
        "print(my_point.label, my_point.features)"
      ],
      "execution_count": 5,
      "outputs": [
        {
          "output_type": "stream",
          "text": [
            "1.0 [1.0,2.0,3.0]\n"
          ],
          "name": "stdout"
        }
      ]
    },
    {
      "metadata": {
        "id": "aOomA2rS1ugC",
        "colab_type": "text"
      },
      "cell_type": "markdown",
      "source": [
        "Естественно, что имея массивы с числовыми данными, мы можем производить различные манипуляции для выявления зависимостей.\n",
        "\n",
        "Например, посчитать коэффициенты корреляции для 4 векторов. "
      ]
    },
    {
      "metadata": {
        "id": "IX4x6yh40DT3",
        "colab_type": "code",
        "colab": {
          "base_uri": "https://localhost:8080/",
          "height": 100
        },
        "outputId": "98563dfb-234f-4793-ba24-7fd4e19350ef"
      },
      "cell_type": "code",
      "source": [
        "\n",
        "from pyspark.ml.stat import Correlation\n",
        "\n",
        "data = [(Vectors.sparse(4, [(0, 1.0), (3, -2.0)]),),\n",
        "        (Vectors.dense([4.0, 5.0, 0.0, 3.0]),),\n",
        "        (Vectors.dense([6.0, 7.0, 0.0, 8.0]),),\n",
        "        (Vectors.sparse(4, [(0, 9.0), (3, 1.0)]),)]\n",
        "df = spark.createDataFrame(data, [\"features\"])\n",
        "\n",
        "r1 = Correlation.corr(df, \"features\").head()\n",
        "print(\"Pearson correlation matrix:\\n\" + str(r1[0]))"
      ],
      "execution_count": 16,
      "outputs": [
        {
          "output_type": "stream",
          "text": [
            "Pearson correlation matrix:\n",
            "DenseMatrix([[1.        , 0.05564149,        nan, 0.40047142],\n",
            "             [0.05564149, 1.        ,        nan, 0.91359586],\n",
            "             [       nan,        nan, 1.        ,        nan],\n",
            "             [0.40047142, 0.91359586,        nan, 1.        ]])\n"
          ],
          "name": "stdout"
        }
      ]
    },
    {
      "metadata": {
        "id": "zin4hUxF8ZkB",
        "colab_type": "text"
      },
      "cell_type": "markdown",
      "source": [
        "Или базовые статистики для DataFrame с учетом веса каждой строки:"
      ]
    },
    {
      "metadata": {
        "id": "utjan1VZve5Y",
        "colab_type": "code",
        "colab": {}
      },
      "cell_type": "code",
      "source": [
        "from pyspark.ml.stat import Summarizer\n",
        "from pyspark.sql import Row\n",
        "\n",
        "df = spark.sparkContext.parallelize([Row(weight=0.0, features=Vectors.dense(1.0, 1.0, 1.0)),\n",
        "                                     Row(weight=1.0, features=Vectors.dense(1.0, 2.0, 3.0))]).toDF()\n",
        "\n",
        "# create summarizer for multiple metrics \"mean\" and \"count\"\n",
        "summarizer = Summarizer.metrics(\"mean\", \"count\")\n",
        "\n",
        "# compute statistics for multiple metrics with weight\n",
        "df.select(summarizer.summary(df.features, df.weight)).show(truncate=False)\n",
        "\n",
        "# compute statistics for multiple metrics without weight\n",
        "df.select(summarizer.summary(df.features)).show(truncate=False)\n",
        "\n",
        "# compute statistics for single metric \"mean\" with weight\n",
        "df.select(Summarizer.mean(df.features, df.weight)).show(truncate=False)\n",
        "\n",
        "# compute statistics for single metric \"mean\" without weight\n",
        "df.select(Summarizer.mean(df.features)).show(truncate=False)"
      ],
      "execution_count": 0,
      "outputs": []
    },
    {
      "metadata": {
        "id": "kMuyiFyq-Q20",
        "colab_type": "text"
      },
      "cell_type": "markdown",
      "source": [
        "## Практические примеры применения MLlib\n",
        "\n",
        "Ближе познакомиться с возможностями данной библиотеки и закрепить навыки лучше на практических примерах. Одним из таких примеров была выбрана задача Линейной регрессии и Задача классификации на данных приближенных к настоящим."
      ]
    },
    {
      "metadata": {
        "id": "w3dQVwJq_DPn",
        "colab_type": "text"
      },
      "cell_type": "markdown",
      "source": [
        "### Линейная регрессия\n",
        "\n"
      ]
    },
    {
      "metadata": {
        "id": "_V_piM-E9Nlk",
        "colab_type": "code",
        "colab": {}
      },
      "cell_type": "code",
      "source": [
        "house_df = sqlContext.read.format('com.databricks.spark.csv').options(header='true', inferschema='true').load('boston.csv')"
      ],
      "execution_count": 0,
      "outputs": []
    },
    {
      "metadata": {
        "id": "f6-8GgU-BfXD",
        "colab_type": "code",
        "colab": {
          "base_uri": "https://localhost:8080/",
          "height": 200
        },
        "outputId": "021e7b79-ea3d-43da-b758-8e4775186f46"
      },
      "cell_type": "code",
      "source": [
        "\n"
      ],
      "execution_count": 32,
      "outputs": [
        {
          "output_type": "stream",
          "text": [
            "--2019-04-10 17:08:26--  http://devdemo.competentum.com/dataset/boston_train.csv\n",
            "Resolving devdemo.competentum.com (devdemo.competentum.com)... 81.5.73.190\n",
            "Connecting to devdemo.competentum.com (devdemo.competentum.com)|81.5.73.190|:80... connected.\n",
            "HTTP request sent, awaiting response... 200 OK\n",
            "Length: 24128 (24K) [application/octet-stream]\n",
            "Saving to: ‘boston_train.csv.1’\n",
            "\n",
            "boston_train.csv.1  100%[===================>]  23.56K  57.8KB/s    in 0.4s    \n",
            "\n",
            "2019-04-10 17:08:27 (57.8 KB/s) - ‘boston_train.csv.1’ saved [24128/24128]\n",
            "\n"
          ],
          "name": "stdout"
        }
      ]
    },
    {
      "metadata": {
        "id": "Et5uMkciGBz4",
        "colab_type": "code",
        "colab": {}
      },
      "cell_type": "code",
      "source": [
        ""
      ],
      "execution_count": 0,
      "outputs": []
    },
    {
      "metadata": {
        "id": "mdBpasdq8e2-",
        "colab_type": "text"
      },
      "cell_type": "markdown",
      "source": [
        "ПОлезные ссылки:\n",
        "[Spark github with examples](https://github.com/apache/spark/tree/master/examples/src/main/python/mllib)"
      ]
    }
  ]
}